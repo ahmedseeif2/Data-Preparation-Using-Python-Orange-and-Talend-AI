{
 "cells": [
  {
   "cell_type": "code",
   "execution_count": 1,
   "metadata": {},
   "outputs": [],
   "source": [
    "from selenium import webdriver\n",
    "from selenium.webdriver.common.keys import Keys\n",
    "import pandas as pd\n",
    "\n",
    "driver = webdriver.Firefox()"
   ]
  },
  {
   "cell_type": "code",
   "execution_count": 2,
   "metadata": {},
   "outputs": [],
   "source": [
    "driver.get('https://www.amazon.com/s?k=amazonbasics&rh=n%3A1055398%2Cp_36%3A1253523011&dc&qid=1619039742&rnid=386465011&ref=sr_nr_p_36_1')  "
   ]
  },
  {
   "cell_type": "code",
   "execution_count": 10,
   "metadata": {},
   "outputs": [
    {
     "name": "stdout",
     "output_type": "stream",
     "text": [
      "['Amazon Basics Pivoting Soap Pump Dispenser - Black', 'Amazon Basics Cleaning Duster, 3-Pack, Blue and White', 'Amazon Basics Fuzzy Faux Fur Sherpa Throw Blanket, 50\"x60\" - Tan Tie Dye', 'Amazon Basics Microfiber Sheet Set, Queen, Dark Grey', 'Amazon Basics Fade-Resistant Cotton Washcloths - Pack of 12, Black', 'Amazon Basics Fabric Storage Bin - Tall Round, Navy Blue', 'Amazon Basics 20-Piece Stainless Steel Flatware Set with Square Edge, Service for 4', 'Amazon Basics Pre-Seasoned Cast Iron Skillet - 12-Inch', 'Amazon Basics Plastic Cutlery Fork, Heavy-Weight, Black, 1000 Count', 'Amazon Basics Broom Holder Wall Mount and Garden Tool Organizer, 6 Hook', 'Amazon Basics Large Round Laundry Hamper Storage Basket with Handles, Striped', 'Amazon Basics Vacuum Compression Storage Bags with Hand Pump - Pack of 12 (3 Jumbo, 3 Large, 3 Medium, 3 Small)', 'TRIDENT Soft and Plush, 100% Cotton, Highly Absorbent, Bathroom Towels, Super Soft, 6 Piece Towel Set (2 Bath Towels, 2 Hand Towels, 2 Washcloths), 500 GSM, Teal', 'RPJC 4x6 Picture Frames Made of Solid Wood High Definition Glass for Table Top Display and Wall Mounting Photo Frame Black', 'Ecolution Reversible 19.5” x 11, Non-Stick, Dishwasher Safe, Double Burner Family Griddle Grill Pan Cookware, Cast Aluminum, Gray Granite', 'Amazon Basics Glass Food Storage, 16-Piece Set, 8 Containers and 8 BPA-Free Lids', 'Amazon Basics Terry Cotton Washcloths, Seafoam Green - Pack of 24', 'Amazon Basics Hard Anodized Non-Stick 2-Piece Skillet Set, 9.5-Inch and 11-Inch, Red', 'Amazon Basics Quick-Dry, Luxurious, Soft, 100% Cotton Bath Towels, Platinum - Set of 2', 'Amazon Basics Teflon Soleplate Steam Iron, 1200-Watt', 'Amazon Basics Large Drying Rack - 18x24\" (46x70cm) (46x70cm) - Linen/Nickel, With 2 Mats', 'Amazon Basics Silicone Hot Skillet Handle Cover Holder, Blue', 'Amazon Basics Satin Pillowcases for Hair and Skin, Envelope Closure - Black, Queen, Pack of 2', 'Amazon Basics Blue, White, and Yellow Microfiber Cleaning Cloth - Pack of 24', 'Amazon Basics ABL001 glass storage, 0.6-Cup, clear with blue lids', 'Amazon Basics 16-Ounce Disposable Plastic Cups, Clear/Translucent - Pack of 240', 'Amazon Basics Replacement Water Filters for Water Pitchers - 3-Pack', 'Gorilla Grip All-Purpose Tongs, Stainless Steel, Rust Resistant, Dishwasher, Comfortable Handle Grips, Sturdy Kitchen Serving Grill Tong for Salads, Cooking, Grilling, Salads, BBQ, 7 Inch, Red', 'DMD Knife Sharpener [3 stage], Original Premium Polish Blades, Best Kitchen Knife Sharpener Really Works for Ceramic and Steel Knives, Scissors, Good Kitchen Partner.', 'Crepe Pan, ROCKURWOK Nonstick Pancake Pan with Silicone Handle Frying Skillet Griddle for Omelette, Tortillas, Dosa, 9.5-Inch, Violet', 'Knife Sharpener 4 in 1Kitchen Scissor Sharpening Tool, with Diamond, Tungsten Steel, Ceramic Stone, Non-slip Base, Cut-Resistant Glove, Helps Repair Restore and Polish Blades', 'Herda Cast Iron Scrubber and Scrapers Kit, 4Pieces Cast Iron Cleaning Care Kit 316 Chainmail Scrubber for Iron Pan, Cast iron Cleaner Chain Scrub Brush Griddle Scraper Tool for Steel Pan Wok', 'TowelSelections Sunshine Collection Soft Towels 100% Turkish Cotton 6 Washcloths Bougainvillea']\n"
     ]
    }
   ],
   "source": [
    "products = driver.find_elements_by_xpath('//span[@class=\"a-size-base-plus a-color-base a-text-normal\"]')\n",
    "products_names = []\n",
    "for product in products:\n",
    "    products_names.append(product.text)\n",
    "print(products_names)"
   ]
  },
  {
   "cell_type": "code",
   "execution_count": 11,
   "metadata": {},
   "outputs": [
    {
     "name": "stdout",
     "output_type": "stream",
     "text": [
      "number of products: 33\n"
     ]
    }
   ],
   "source": [
    "print(\"number of products:\", len(products_names))"
   ]
  },
  {
   "cell_type": "code",
   "execution_count": 54,
   "metadata": {},
   "outputs": [
    {
     "name": "stdout",
     "output_type": "stream",
     "text": [
      "['3', '17', '18', '19', '15', '20', '19', '26', '35', '18', '22', '29', '23', '6', '24', '21', '17', '21', '19', '17', '28', '5', '11', '15', '8', '20', '13', '6', '15', '23', '10', '14', '9']\n",
      "33\n"
     ]
    }
   ],
   "source": [
    "prices_whole = driver.find_elements_by_xpath('//span[@class=\"a-price-whole\"]')\n",
    "products_prices_whole = []\n",
    "for price in prices_whole:\n",
    "    products_prices_whole.append(price.text)\n",
    "print(products_prices_whole)\n",
    "print(len(products_prices_whole))"
   ]
  },
  {
   "cell_type": "code",
   "execution_count": 55,
   "metadata": {},
   "outputs": [
    {
     "name": "stdout",
     "output_type": "stream",
     "text": [
      "['70', '49', '84', '99', '99', '49', '99', '99', '32', '51', '91', '99', '75', '79', '99', '99', '99', '89', '99', '43', '46', '99', '99', '49', '07', '99', '33', '99', '99', '99', '99', '99', '95']\n",
      "33\n"
     ]
    }
   ],
   "source": [
    "prices_fraction = driver.find_elements_by_xpath('//span[@class=\"a-price-fraction\"]')\n",
    "products_prices_fraction = []\n",
    "for price in prices_fraction:\n",
    "    products_prices_fraction.append(price.text)\n",
    "print(products_prices_fraction)\n",
    "print(len(products_prices_fraction))"
   ]
  },
  {
   "cell_type": "code",
   "execution_count": 58,
   "metadata": {},
   "outputs": [
    {
     "name": "stdout",
     "output_type": "stream",
     "text": [
      "[3.7, 17.49, 18.84, 19.99, 15.99, 20.49, 19.99, 26.99, 35.32, 18.51, 22.91, 29.99, 23.75, 6.79, 24.99, 21.99, 17.99, 21.89, 19.99, 17.43, 28.46, 5.99, 11.99, 15.49, 8.07, 20.99, 13.33, 6.99, 15.99, 23.99, 10.99, 14.99, 9.95]\n",
      "33\n"
     ]
    }
   ],
   "source": [
    "products_prices = []\n",
    "for whole,fraction in zip(products_prices_whole, products_prices_fraction):\n",
    "    price = float(whole + \".\" + fraction)\n",
    "    products_prices.append(price)\n",
    "print(products_prices)\n",
    "print(len(products_prices))"
   ]
  },
  {
   "cell_type": "code",
   "execution_count": 59,
   "metadata": {},
   "outputs": [
    {
     "data": {
      "text/html": [
       "<div>\n",
       "<style scoped>\n",
       "    .dataframe tbody tr th:only-of-type {\n",
       "        vertical-align: middle;\n",
       "    }\n",
       "\n",
       "    .dataframe tbody tr th {\n",
       "        vertical-align: top;\n",
       "    }\n",
       "\n",
       "    .dataframe thead th {\n",
       "        text-align: right;\n",
       "    }\n",
       "</style>\n",
       "<table border=\"1\" class=\"dataframe\">\n",
       "  <thead>\n",
       "    <tr style=\"text-align: right;\">\n",
       "      <th></th>\n",
       "      <th>Product_Name</th>\n",
       "      <th>Product_Price</th>\n",
       "    </tr>\n",
       "  </thead>\n",
       "  <tbody>\n",
       "    <tr>\n",
       "      <th>0</th>\n",
       "      <td>Amazon Basics Pivoting Soap Pump Dispenser - B...</td>\n",
       "      <td>3.70</td>\n",
       "    </tr>\n",
       "    <tr>\n",
       "      <th>1</th>\n",
       "      <td>Amazon Basics Cleaning Duster, 3-Pack, Blue an...</td>\n",
       "      <td>17.49</td>\n",
       "    </tr>\n",
       "    <tr>\n",
       "      <th>2</th>\n",
       "      <td>Amazon Basics Fuzzy Faux Fur Sherpa Throw Blan...</td>\n",
       "      <td>18.84</td>\n",
       "    </tr>\n",
       "    <tr>\n",
       "      <th>3</th>\n",
       "      <td>Amazon Basics Microfiber Sheet Set, Queen, Dar...</td>\n",
       "      <td>19.99</td>\n",
       "    </tr>\n",
       "    <tr>\n",
       "      <th>4</th>\n",
       "      <td>Amazon Basics Fade-Resistant Cotton Washcloths...</td>\n",
       "      <td>15.99</td>\n",
       "    </tr>\n",
       "  </tbody>\n",
       "</table>\n",
       "</div>"
      ],
      "text/plain": [
       "                                        Product_Name  Product_Price\n",
       "0  Amazon Basics Pivoting Soap Pump Dispenser - B...           3.70\n",
       "1  Amazon Basics Cleaning Duster, 3-Pack, Blue an...          17.49\n",
       "2  Amazon Basics Fuzzy Faux Fur Sherpa Throw Blan...          18.84\n",
       "3  Amazon Basics Microfiber Sheet Set, Queen, Dar...          19.99\n",
       "4  Amazon Basics Fade-Resistant Cotton Washcloths...          15.99"
      ]
     },
     "execution_count": 59,
     "metadata": {},
     "output_type": "execute_result"
    }
   ],
   "source": [
    "data_tuple = list(zip(products_names, products_prices)) \n",
    "df = pd.DataFrame(data_tuple, columns=['Product_Name','Product_Price'])\n",
    "df.head()"
   ]
  },
  {
   "cell_type": "code",
   "execution_count": 60,
   "metadata": {},
   "outputs": [
    {
     "name": "stdout",
     "output_type": "stream",
     "text": [
      "<class 'pandas.core.frame.DataFrame'>\n",
      "RangeIndex: 33 entries, 0 to 32\n",
      "Data columns (total 2 columns):\n",
      " #   Column         Non-Null Count  Dtype  \n",
      "---  ------         --------------  -----  \n",
      " 0   Product_Name   33 non-null     object \n",
      " 1   Product_Price  33 non-null     float64\n",
      "dtypes: float64(1), object(1)\n",
      "memory usage: 656.0+ bytes\n"
     ]
    }
   ],
   "source": [
    "df.info()"
   ]
  },
  {
   "cell_type": "code",
   "execution_count": 62,
   "metadata": {},
   "outputs": [],
   "source": [
    "df.to_csv(\"list_of_prices.csv\", index=False)"
   ]
  },
  {
   "cell_type": "code",
   "execution_count": 63,
   "metadata": {},
   "outputs": [],
   "source": [
    "driver.close()"
   ]
  },
  {
   "cell_type": "code",
   "execution_count": null,
   "metadata": {},
   "outputs": [],
   "source": []
  }
 ],
 "metadata": {
  "kernelspec": {
   "display_name": "Python 3",
   "language": "python",
   "name": "python3"
  },
  "language_info": {
   "codemirror_mode": {
    "name": "ipython",
    "version": 3
   },
   "file_extension": ".py",
   "mimetype": "text/x-python",
   "name": "python",
   "nbconvert_exporter": "python",
   "pygments_lexer": "ipython3",
   "version": "3.7.6"
  }
 },
 "nbformat": 4,
 "nbformat_minor": 4
}
